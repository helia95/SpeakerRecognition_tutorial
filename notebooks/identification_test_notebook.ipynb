{
 "cells": [
  {
   "cell_type": "code",
   "execution_count": 1,
   "metadata": {},
   "outputs": [],
   "source": [
    "import os\n",
    "import numpy as np\n",
    "\n",
    "import torch\n",
    "import torch.nn as nn\n",
    "import torch.nn.functional as F\n",
    "import pickle\n",
    "import math"
   ]
  },
  {
   "cell_type": "code",
   "execution_count": 2,
   "metadata": {},
   "outputs": [],
   "source": [
    "import sys\n",
    "from collections import Counter\n",
    "import pickle"
   ]
  },
  {
   "cell_type": "code",
   "execution_count": 3,
   "metadata": {},
   "outputs": [],
   "source": [
    "sys.path.append('../')\n",
    "\n",
    "from enroll import load_model\n",
    "from SR_Dataset import ToTensorInput, ToTensorTestInput"
   ]
  },
  {
   "cell_type": "code",
   "execution_count": 4,
   "metadata": {},
   "outputs": [],
   "source": [
    "def compute_accuracy(predictions, labels):\n",
    "    \n",
    "    with open('/cas/DeepLearn/elperu/tmp/speech_datasets/SpeakerRecognition_tutorial/model_saved/spk_to_idx.pkl', 'rb') as f:\n",
    "        spk_to_index = pickle.load(f)\n",
    "        \n",
    "    # Invert the order\n",
    "    index_to_spk = {y:x for x,y in spk_to_index.items()}\n",
    "        \n",
    "    predictions_as_speakers = []\n",
    "    acc = 0\n",
    "    for pred, lb in zip(predictions, labels):\n",
    "        idx = spk_to_index[lb]\n",
    "        \n",
    "        predictions_as_speakers.append(index_to_spk[pred])\n",
    "        \n",
    "        if pred == idx:\n",
    "            acc += 1\n",
    "            \n",
    "    return acc / len(predictions), predictions_as_speakers"
   ]
  },
  {
   "cell_type": "code",
   "execution_count": 5,
   "metadata": {},
   "outputs": [],
   "source": [
    "def to_tesnor(inp):\n",
    "    t = torch.Tensor(inp)\n",
    "    tens_new = t[(None,)*2]\n",
    "    \n",
    "    return tens_new.permute(0, 1, 3, 2)"
   ]
  },
  {
   "cell_type": "code",
   "execution_count": 6,
   "metadata": {},
   "outputs": [],
   "source": [
    "def load_embeddings(path):\n",
    "    speakers = os.listdir(path)\n",
    "    \n",
    "    features = []\n",
    "    labels = []\n",
    "    for speaker in speakers:\n",
    "        files = os.listdir(os.path.join(path, speaker))\n",
    "        \n",
    "        for file in files:\n",
    "            with open(os.path.join(path, speaker, file), 'rb') as f:\n",
    "                feat_and_lab = pickle.load(f)\n",
    "                \n",
    "                feat = feat_and_lab['feat']\n",
    "                lb = feat_and_lab['label']\n",
    "                features.append(torch.Tensor(feat))\n",
    "                labels.append(lb)\n",
    "                \n",
    "    return features, labels\n",
    "        "
   ]
  },
  {
   "cell_type": "code",
   "execution_count": 7,
   "metadata": {},
   "outputs": [],
   "source": [
    "def get_embeddings(input, model):\n",
    "\n",
    "    tot_segments = math.ceil(len(input)/test_frames) # total number of segments with 'test_frames' \n",
    "    predictions = []\n",
    "    \n",
    "    with torch.no_grad():\n",
    "        for i in range(tot_segments):\n",
    "            # Divide the input in sub_inputs of length test_frames\n",
    "            temp_input = input[i*test_frames:i*test_frames+test_frames]\n",
    "            \n",
    "            temp_input = to_tesnor(temp_input) # size:(1, 1, n_dims, n_frames)\n",
    "\n",
    "            if use_cuda:\n",
    "                temp_input = temp_input.cuda()\n",
    "                \n",
    "                \n",
    "            _, output = model(temp_input) # out size:(batch size, #classes), for softmax\n",
    "\n",
    "            # calculate accuracy of predictions in the current batch\n",
    "            pred =  torch.argmax(output, 1).cpu().numpy()[0]\n",
    "            predictions.append(pred)\n",
    "\n",
    "    tmp = Counter(predictions)\n",
    "    final_prediction = tmp.most_common()[0][0]\n",
    "                \n",
    "    return final_prediction, predictions"
   ]
  },
  {
   "cell_type": "code",
   "execution_count": 8,
   "metadata": {},
   "outputs": [],
   "source": [
    "def get_model(use_cuda, log_dir, embedding_size, cp_num, n_classes, test_frames):\n",
    "\n",
    "    model = load_model(use_cuda, log_dir, cp_num, embedding_size, n_classes)\n",
    "    \n",
    "    return model\n",
    "\n",
    "    "
   ]
  },
  {
   "cell_type": "code",
   "execution_count": 9,
   "metadata": {},
   "outputs": [],
   "source": [
    "def main(data, model):\n",
    "    \n",
    "    preds = []\n",
    "    for x_i in data:\n",
    "        \n",
    "        most_common, all_preds = get_embeddings(x_i, model)\n",
    "        \n",
    "        preds.append(most_common)\n",
    "        \n",
    "    \n",
    "    return preds\n",
    "        \n",
    "    "
   ]
  },
  {
   "cell_type": "code",
   "execution_count": 10,
   "metadata": {},
   "outputs": [],
   "source": [
    "# HParams\n",
    "\n",
    "use_cuda = True\n",
    "log_dir = '/cas/DeepLearn/elperu/tmp/speech_datasets/SpeakerRecognition_tutorial/model_saved/'\n",
    "embedding_size = 128\n",
    "cp_num = 50 \n",
    "n_classes = 200\n",
    "test_frames = 200\n",
    "data_path = '/cas/DeepLearn/elperu/tmp/speech_datasets/LibriSpeech/train_test_split/identification_test/'"
   ]
  },
  {
   "cell_type": "code",
   "execution_count": null,
   "metadata": {},
   "outputs": [],
   "source": []
  },
  {
   "cell_type": "code",
   "execution_count": null,
   "metadata": {},
   "outputs": [],
   "source": []
  },
  {
   "cell_type": "code",
   "execution_count": 11,
   "metadata": {},
   "outputs": [
    {
     "name": "stdout",
     "output_type": "stream",
     "text": [
      "=> loading checkpoint\n"
     ]
    }
   ],
   "source": [
    "# Load model and embeddings\n",
    "model = get_model(use_cuda, log_dir, embedding_size, cp_num, n_classes, test_frames)\n",
    "\n",
    "data, labels = load_embeddings(data_path)"
   ]
  },
  {
   "cell_type": "code",
   "execution_count": null,
   "metadata": {},
   "outputs": [],
   "source": []
  },
  {
   "cell_type": "code",
   "execution_count": 12,
   "metadata": {},
   "outputs": [],
   "source": [
    "predictions = main(data, model)"
   ]
  },
  {
   "cell_type": "code",
   "execution_count": null,
   "metadata": {},
   "outputs": [],
   "source": []
  },
  {
   "cell_type": "code",
   "execution_count": 13,
   "metadata": {},
   "outputs": [
    {
     "name": "stdout",
     "output_type": "stream",
     "text": [
      "Accuracy of identification system: 0.948%\n"
     ]
    }
   ],
   "source": [
    "acc, pred_as_spks = compute_accuracy(predictions, labels)\n",
    "\n",
    "print(f'Accuracy of identification system: {acc:.3f}%')"
   ]
  },
  {
   "cell_type": "code",
   "execution_count": null,
   "metadata": {},
   "outputs": [],
   "source": []
  }
 ],
 "metadata": {
  "kernelspec": {
   "display_name": "Python [conda env:speaker]",
   "language": "python",
   "name": "conda-env-speaker-py"
  },
  "language_info": {
   "codemirror_mode": {
    "name": "ipython",
    "version": 3
   },
   "file_extension": ".py",
   "mimetype": "text/x-python",
   "name": "python",
   "nbconvert_exporter": "python",
   "pygments_lexer": "ipython3",
   "version": "3.8.3"
  }
 },
 "nbformat": 4,
 "nbformat_minor": 4
}
