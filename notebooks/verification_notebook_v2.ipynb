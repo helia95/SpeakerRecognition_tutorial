{
 "cells": [
  {
   "cell_type": "code",
   "execution_count": 1,
   "metadata": {},
   "outputs": [],
   "source": [
    "import os\n",
    "import numpy as np\n",
    "import pandas as pd\n",
    "import random\n",
    "import matplotlib.pyplot as plt\n",
    "import seaborn as sns\n",
    "\n",
    "\n",
    "import torch\n",
    "import torch.nn.functional as F"
   ]
  },
  {
   "cell_type": "code",
   "execution_count": null,
   "metadata": {},
   "outputs": [],
   "source": [
    "def analyze(db):\n",
    "    acc = len(db.query('true_user == pred_cosine')) / len(db)\n",
    "    \n",
    "    avg_correct =  db.query('true_user == pred_cosine')['cosine_score'].mean()\n",
    "    avg_wrong = db.query('true_user != pred_cosine')['cosine_score'].mean()\n",
    "    \n",
    "    print(f'Accuracy: {acc}')\n",
    "    print(f'Average score CORRECT: {avg_correct}')\n",
    "    print(f'Average score WRONG: {avg_wrong}')\n",
    "    \n",
    "    idx_wrong = np.where(db['pred_cosine'] != db['true_user'])\n",
    "    \n",
    "    return idx_wrong"
   ]
  },
  {
   "cell_type": "code",
   "execution_count": 3,
   "metadata": {},
   "outputs": [],
   "source": [
    "def load_enroll(path):\n",
    "    X = {}\n",
    "    df = pd.read_csv(path)\n",
    "    \n",
    "    for idx, row in df.iterrows():\n",
    "        path = row['_path']\n",
    "        spk = row['spk_id']\n",
    "        th_embd = torch.load(path)        \n",
    "        X[spk] = th_embd\n",
    "        \n",
    "    return X\n",
    "\n",
    "def load_test(path):\n",
    "    X = []\n",
    "    df = pd.read_csv(path)\n",
    "    \n",
    "    for idx, row in df.iterrows():\n",
    "        path = row['_path']\n",
    "        spk = row['spk_id']\n",
    "        th_embd = torch.load(path)        \n",
    "        X.append((th_embd, spk))\n",
    "        \n",
    "    return X"
   ]
  },
  {
   "cell_type": "code",
   "execution_count": 92,
   "metadata": {},
   "outputs": [],
   "source": [
    "def plot_cmap(n_users_to_plot, users, tot):\n",
    "    \n",
    "    #norm_dict = {k:tot[k]['scores']/tot[k]['count'] for k in tot.keys()}\n",
    "    #df = pd.DataFrame.from_dict(norm_dict, orient='index', columns=users)\n",
    "    \n",
    "    k = 0\n",
    "    F = np.zeros((n_users_to_plot, n_users_to_plot))\n",
    "\n",
    "    idx_spk_to_plot = random.sample(range(len(users)), n_users_to_plot)\n",
    "\n",
    "    \n",
    "    users_to_plot = []\n",
    "\n",
    "    for idx in idx_spk_to_plot:\n",
    "\n",
    "        curr_user = users[idx]\n",
    "        users_to_plot.append(curr_user) # for plotting\n",
    "\n",
    "        norm_score = tot[curr_user]['scores'] / tot[curr_user]['count']\n",
    "\n",
    "        F[k, :] = norm_score[idx_spk_to_plot]   # add only the selected speakers\n",
    "        k += 1\n",
    "        \n",
    "        \n",
    "    ax = sns.heatmap(F, linewidth=1, cmap='viridis', vmin=-1, vmax=1)\n",
    "    ax.set_xticks(np.arange(len(users_to_plot)))\n",
    "    ax.set_yticks(np.arange(len(users_to_plot)))\n",
    "\n",
    "    ax.set_yticklabels(labels=users_to_plot, rotation=0)\n",
    "    ax.set_xticklabels(labels=users_to_plot, rotation=45)\n",
    "\n",
    "\n",
    "    ax.set_title(\"Cosine similarity\")\n",
    "    "
   ]
  },
  {
   "cell_type": "code",
   "execution_count": 69,
   "metadata": {},
   "outputs": [],
   "source": [
    "def main(path_embd_enroll, path_embd_test):\n",
    "    enroll_embd = load_enroll(path_embd_enroll)\n",
    "    users = list(enroll_embd.keys())\n",
    "    \n",
    "    test_embd = load_test(path_embd_test)\n",
    "    \n",
    "    # Initialize DFs\n",
    "    \n",
    "    DB_rows = [] \n",
    "    tot = {}\n",
    "    \n",
    "    # Iterate\n",
    "\n",
    "    for to_test, test_user in test_embd:\n",
    "\n",
    "        max_score = -10**8\n",
    "        min_score = 10**8\n",
    "        best_spk = None\n",
    "\n",
    "        if test_user not in tot.keys():\n",
    "            tot[test_user]= {'scores': np.zeros(50), \n",
    "                             'count': 0}\n",
    "\n",
    "        scores = []\n",
    "        for enroll_user in users:\n",
    "            reference = enroll_embd[enroll_user]\n",
    "\n",
    "            score = F.cosine_similarity(reference, to_test)\n",
    "            score = score[0].data.cpu().numpy()\n",
    "\n",
    "            scores.append(score)\n",
    "\n",
    "            mse = ((to_test - reference) ** 2).sum().numpy()\n",
    "\n",
    "            #print(test_user, enroll_user, score)\n",
    "\n",
    "            if score > max_score:\n",
    "                best_spk = enroll_user\n",
    "                max_score = score\n",
    "\n",
    "            if mse < min_score:\n",
    "                best_mse = enroll_user\n",
    "                min_score = mse\n",
    "                #print('Best user updated!')\n",
    "\n",
    "        tot[test_user]['scores'] += np.array(scores) \n",
    "        tot[test_user]['count'] += 1\n",
    "\n",
    "        DB_rows.append([test_user, best_spk, max_score, best_mse, min_score])\n",
    "\n",
    "\n",
    "    DB= pd.DataFrame(DB_rows, columns=['true_user', 'pred_cosine', 'cosine_score', 'pred_mse', 'mse_score'])\n",
    "    \n",
    "    return DB, tot, users"
   ]
  },
  {
   "cell_type": "code",
   "execution_count": null,
   "metadata": {},
   "outputs": [],
   "source": []
  },
  {
   "cell_type": "markdown",
   "metadata": {},
   "source": [
    "## Trained with contrastive loss"
   ]
  },
  {
   "cell_type": "code",
   "execution_count": 83,
   "metadata": {},
   "outputs": [],
   "source": [
    "path_embd_test = '/cas/DeepLearn/elperu/tmp/speech_datasets/LibriSpeech/embeddings_10/test_samples.csv'\n",
    "path_embd_enroll =  '/cas/DeepLearn/elperu/tmp/speech_datasets/LibriSpeech/embeddings_10/enroll_samples.csv'\n",
    "DB, tot, users = main(path_embd_enroll=path_embd_enroll, path_embd_test=path_embd_test)"
   ]
  },
  {
   "cell_type": "code",
   "execution_count": 84,
   "metadata": {},
   "outputs": [
    {
     "name": "stdout",
     "output_type": "stream",
     "text": [
      "Accuracy: 0.8128205128205128\n",
      "Average score CORRECT: 0.9104196446175079\n",
      "Average score WRONG: 0.8493028614619007\n"
     ]
    }
   ],
   "source": [
    "idx_wrong = analyze(DB)"
   ]
  },
  {
   "cell_type": "code",
   "execution_count": 93,
   "metadata": {},
   "outputs": [
    {
     "data": {
      "image/png": "[encoded data removed]",
      "text/plain": [
       "<Figure size 432x288 with 2 Axes>"
      ]
     },
     "metadata": {
      "needs_background": "light"
     },
     "output_type": "display_data"
    }
   ],
   "source": [
    "plot_cmap(10, users, tot)"
   ]
  },
  {
   "cell_type": "code",
   "execution_count": null,
   "metadata": {},
   "outputs": [],
   "source": []
  },
  {
   "cell_type": "code",
   "execution_count": null,
   "metadata": {},
   "outputs": [],
   "source": []
  },
  {
   "cell_type": "markdown",
   "metadata": {},
   "source": [
    "## Trained with cross-entropy"
   ]
  },
  {
   "cell_type": "code",
   "execution_count": 70,
   "metadata": {},
   "outputs": [],
   "source": [
    "embd_enroll_old = '/cas/DeepLearn/elperu/tmp/speech_datasets/LibriSpeech/tot_embeddings/enroll_samples.csv'\n",
    "embd_test_old = '/cas/DeepLearn/elperu/tmp/speech_datasets/LibriSpeech/tot_embeddings/test_samples.csv'\n",
    "DB_2, tot_2, users = main(path_embd_enroll=embd_enroll_old, path_embd_test=embd_test_old)"
   ]
  },
  {
   "cell_type": "code",
   "execution_count": 71,
   "metadata": {},
   "outputs": [
    {
     "name": "stdout",
     "output_type": "stream",
     "text": [
      "Accuracy: 0.8912820512820513\n",
      "Average score CORRECT: 0.9954309320833933\n",
      "Average score WRONG: 0.9898698914725825\n"
     ]
    }
   ],
   "source": [
    "idx_wrong_2 = analyze(DB_2)"
   ]
  },
  {
   "cell_type": "code",
   "execution_count": 94,
   "metadata": {},
   "outputs": [
    {
     "data": {
      "image/png": "[encoded data removed]",
      "text/plain": [
       "<Figure size 432x288 with 2 Axes>"
      ]
     },
     "metadata": {
      "needs_background": "light"
     },
     "output_type": "display_data"
    }
   ],
   "source": [
    "plot_cmap(10, users, tot_2)"
   ]
  },
  {
   "cell_type": "code",
   "execution_count": null,
   "metadata": {},
   "outputs": [],
   "source": []
  }
 ],
 "metadata": {
  "kernelspec": {
   "display_name": "Python [conda env:speaker]",
   "language": "python",
   "name": "conda-env-speaker-py"
  },
  "language_info": {
   "codemirror_mode": {
    "name": "ipython",
    "version": 3
   },
   "file_extension": ".py",
   "mimetype": "text/x-python",
   "name": "python",
   "nbconvert_exporter": "python",
   "pygments_lexer": "ipython3",
   "version": "3.8.3"
  }
 },
 "nbformat": 4,
 "nbformat_minor": 4
}
