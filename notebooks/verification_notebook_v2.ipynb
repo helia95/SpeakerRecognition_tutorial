{
 "cells": [
  {
   "cell_type": "code",
   "execution_count": 1,
   "metadata": {},
   "outputs": [],
   "source": [
    "import os\n",
    "import numpy as np\n",
    "import pandas as pd\n",
    "\n",
    "import torch\n",
    "import torch.nn.functional as F"
   ]
  },
  {
   "cell_type": "code",
   "execution_count": 2,
   "metadata": {},
   "outputs": [],
   "source": [
    "path_embd_test = '/cas/DeepLearn/elperu/tmp/speech_datasets/LibriSpeech/embeddings_10/test_samples.csv'\n",
    "path_embd_enroll =  '/cas/DeepLearn/elperu/tmp/speech_datasets/LibriSpeech/embeddings_10/enroll_samples.csv'"
   ]
  },
  {
   "cell_type": "code",
   "execution_count": 3,
   "metadata": {},
   "outputs": [],
   "source": [
    "def load_enroll(path):\n",
    "    X = {}\n",
    "    df = pd.read_csv(path)\n",
    "    \n",
    "    for idx, row in df.iterrows():\n",
    "        path = row['_path']\n",
    "        spk = row['spk_id']\n",
    "        th_embd = torch.load(path)        \n",
    "        X[spk] = th_embd\n",
    "        \n",
    "    return X\n",
    "\n",
    "def load_test(path):\n",
    "    X = []\n",
    "    df = pd.read_csv(path)\n",
    "    \n",
    "    for idx, row in df.iterrows():\n",
    "        path = row['_path']\n",
    "        spk = row['spk_id']\n",
    "        th_embd = torch.load(path)        \n",
    "        X.append((th_embd, spk))\n",
    "        \n",
    "    return X"
   ]
  },
  {
   "cell_type": "code",
   "execution_count": 4,
   "metadata": {},
   "outputs": [],
   "source": [
    "#test_embd = load_embeddings(path_embd_test)\n",
    "enroll_embd = load_enroll(path_embd_enroll)\n",
    "users = list(enroll_embd.keys())"
   ]
  },
  {
   "cell_type": "code",
   "execution_count": 5,
   "metadata": {},
   "outputs": [],
   "source": [
    "test_embd = load_test(path_embd_test)"
   ]
  },
  {
   "cell_type": "code",
   "execution_count": 10,
   "metadata": {},
   "outputs": [],
   "source": [
    "track_matrices = {}\n",
    "acc_cosine = 0\n",
    "acc_mse = 0\n",
    "\n",
    "DB_1_rows = [] #= pd.DataFrame(columns=['true', 'pred', 'cosine'])\n",
    "DB_2_rows = [] #= pd.DataFrame(columns=['true', 'pred', 'mse'])\n",
    "\n",
    "\n",
    "metrics = {'TP':0, 'FP':0, 'FN': 0, 'TN': 0}\n",
    "for to_test, test_user in test_embd:\n",
    "    \n",
    "    max_score = -10**8\n",
    "    min_score = 10**8\n",
    "    best_spk = None\n",
    "    \n",
    "    scores = []\n",
    "    for enroll_user in users:\n",
    "        reference = enroll_embd[enroll_user]\n",
    "\n",
    "        score = F.cosine_similarity(reference, to_test)\n",
    "        score = score[0].data.cpu().numpy()\n",
    "        \n",
    "        mse = ((to_test - reference) ** 2).sum().numpy()\n",
    "        \n",
    "        #print(enroll_user, score)\n",
    "\n",
    "        if score > max_score:\n",
    "            best_spk = enroll_user\n",
    "            max_score = score\n",
    "            \n",
    "        if mse < min_score:\n",
    "            best_mse = enroll_user\n",
    "            min_score = mse\n",
    "            #print('Best user updated!')\n",
    "        \n",
    "        \n",
    "        \n",
    "    #message = f'True user: {test_user}, Claimed user: {enroll_user}, score: {score %.2f}'\n",
    "    #print(message)\n",
    "    \n",
    "    if test_user == best_spk:\n",
    "        acc_cosine += 1\n",
    "        \n",
    "    if test_user == best_mse:\n",
    "        acc_mse += 1\n",
    "        \n",
    "    DB_1_rows.append([test_user, best_spk, max_score])\n",
    "    DB_2_rows.append([test_user, best_mse, min_score])\n",
    "        \n",
    "        \n",
    "DB_cosine = pd.DataFrame(DB_1_rows, columns=['true', 'pred', 'score'])\n",
    "DB_mse = pd.DataFrame(DB_2_rows, columns=['true', 'pred', 'score'])"
   ]
  },
  {
   "cell_type": "code",
   "execution_count": 11,
   "metadata": {},
   "outputs": [],
   "source": [
    "def analyze(db):\n",
    "    acc = len(db.query('true == pred')) / len(db)\n",
    "    \n",
    "    avg_correct =  db.query('true == pred')['score'].mean()\n",
    "    avg_wrong = db.query('true != pred')['score'].mean()\n",
    "    \n",
    "    print(f'Accuracy: {acc}')\n",
    "    print(f'Average score CORRECT: {avg_correct}')\n",
    "    print(f'Average score WRONG: {avg_wrong}')\n",
    "    \n",
    "    idx_wrong = np.where(db['pred'] != db['true'])\n",
    "    \n",
    "    return idx_wrong"
   ]
  },
  {
   "cell_type": "code",
   "execution_count": 12,
   "metadata": {},
   "outputs": [
    {
     "name": "stdout",
     "output_type": "stream",
     "text": [
      "== Cosine ==\n",
      "\n",
      "Accuracy: 0.8958974358974359\n",
      "Average score CORRECT: 0.9939929807124713\n",
      "Average score WRONG: 0.9866936594394627\n"
     ]
    }
   ],
   "source": [
    "print('== Cosine ==\\n')\n",
    "idx_c = analyze(DB_cosine)"
   ]
  },
  {
   "cell_type": "code",
   "execution_count": 13,
   "metadata": {},
   "outputs": [
    {
     "name": "stdout",
     "output_type": "stream",
     "text": [
      "== MSE ==\n",
      "\n",
      "Accuracy: 0.8958974358974359\n",
      "Average score CORRECT: 1.2014076307151544\n",
      "Average score WRONG: 2.661263000788947\n"
     ]
    }
   ],
   "source": [
    "print('== MSE ==\\n')\n",
    "idx_m = analyze(DB_mse)"
   ]
  },
  {
   "cell_type": "code",
   "execution_count": null,
   "metadata": {},
   "outputs": [],
   "source": []
  }
 ],
 "metadata": {
  "kernelspec": {
   "display_name": "Python [conda env:speaker]",
   "language": "python",
   "name": "conda-env-speaker-py"
  },
  "language_info": {
   "codemirror_mode": {
    "name": "ipython",
    "version": 3
   },
   "file_extension": ".py",
   "mimetype": "text/x-python",
   "name": "python",
   "nbconvert_exporter": "python",
   "pygments_lexer": "ipython3",
   "version": "3.8.3"
  }
 },
 "nbformat": 4,
 "nbformat_minor": 4
}
