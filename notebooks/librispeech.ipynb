{
 "cells": [
  {
   "cell_type": "code",
   "execution_count": 1,
   "metadata": {},
   "outputs": [],
   "source": [
    "import os\n",
    "import numpy as np\n",
    "import torchaudio\n",
    "import pandas as pd\n",
    "import glob"
   ]
  },
  {
   "cell_type": "code",
   "execution_count": 2,
   "metadata": {},
   "outputs": [],
   "source": [
    "# torchaudio.datasets.LIBRISPEECH(root= , url = 'train-clean-100', download=True)"
   ]
  },
  {
   "cell_type": "code",
   "execution_count": 3,
   "metadata": {},
   "outputs": [],
   "source": [
    "#f = open('/cas/DeepLearn/elperu/tmp/speech_datasets/LibriSpeech/README.TXT', 'r')\n",
    "#readme = f.readlines()\n",
    "#readme"
   ]
  },
  {
   "cell_type": "markdown",
   "metadata": {},
   "source": [
    "## Dataset structure\n",
    "100 hours of speech, different speakers reads chapters of books"
   ]
  },
  {
   "cell_type": "raw",
   "metadata": {},
   "source": [
    "base_path|\n",
    "        - speaker_id_1|\n",
    "                        - ch_1\n",
    "                        - ch_2\n",
    "        - speaker_id_2|\n",
    "        ...\n",
    "        \n",
    "        \n",
    "Average duration abuot 10 s per utterance\n",
    "\n",
    "\n",
    "Collect 20 utterance per speaker and use it for training"
   ]
  },
  {
   "cell_type": "markdown",
   "metadata": {},
   "source": [
    "### Analyze dataset"
   ]
  },
  {
   "cell_type": "code",
   "execution_count": 4,
   "metadata": {},
   "outputs": [],
   "source": [
    "dataroot = '/cas/DeepLearn/elperu/tmp/speech_datasets/LibriSpeech/train-clean-100/'"
   ]
  },
  {
   "cell_type": "code",
   "execution_count": 5,
   "metadata": {},
   "outputs": [
    {
     "name": "stdout",
     "output_type": "stream",
     "text": [
      "Number of speaker: 251\n"
     ]
    }
   ],
   "source": [
    "speakers = os.listdir(dataroot)\n",
    "print(f'Number of speaker: {len(speakers)}')"
   ]
  },
  {
   "cell_type": "code",
   "execution_count": 26,
   "metadata": {},
   "outputs": [
    {
     "name": "stdout",
     "output_type": "stream",
     "text": [
      "Speaker: 7312 less than 40 utterances, skipped\n"
     ]
    }
   ],
   "source": [
    "tot_rows = []\n",
    "\n",
    "n_utterances_per_spk = 40\n",
    "for speaker in speakers:\n",
    "    chapters = os.listdir(os.path.join(dataroot, speaker))\n",
    "    \n",
    "    utterances = []\n",
    "    for ch in chapters:\n",
    "        for i in glob.glob(os.path.join(dataroot, speaker, ch, '*.flac')):\n",
    "            utterances.append(i)\n",
    "        \n",
    "    if len(utterances) < n_utterances_per_spk:\n",
    "        print(f'Speaker: {speaker} less than {n_utterances_per_spk} utterances, skipped')\n",
    "        continue\n",
    "        \n",
    "    for utter in utterances[:n_utterances_per_spk]:\n",
    "        tot_rows.append([speaker, ch, os.path.abspath(os.path.join(dataroot, speaker, ch, utter))])"
   ]
  },
  {
   "cell_type": "code",
   "execution_count": 27,
   "metadata": {},
   "outputs": [],
   "source": [
    "df = pd.DataFrame(tot_rows, columns=['spk_id', 'ch_id', 'utter_path'])"
   ]
  },
  {
   "cell_type": "code",
   "execution_count": 28,
   "metadata": {},
   "outputs": [
    {
     "data": {
      "text/html": [
       "<div>\n",
       "<style scoped>\n",
       "    .dataframe tbody tr th:only-of-type {\n",
       "        vertical-align: middle;\n",
       "    }\n",
       "\n",
       "    .dataframe tbody tr th {\n",
       "        vertical-align: top;\n",
       "    }\n",
       "\n",
       "    .dataframe thead th {\n",
       "        text-align: right;\n",
       "    }\n",
       "</style>\n",
       "<table border=\"1\" class=\"dataframe\">\n",
       "  <thead>\n",
       "    <tr style=\"text-align: right;\">\n",
       "      <th></th>\n",
       "      <th>spk_id</th>\n",
       "      <th>ch_id</th>\n",
       "      <th>utter_path</th>\n",
       "    </tr>\n",
       "  </thead>\n",
       "  <tbody>\n",
       "    <tr>\n",
       "      <th>0</th>\n",
       "      <td>374</td>\n",
       "      <td>180299</td>\n",
       "      <td>/cas/DeepLearn/elperu/tmp/speech_datasets/Libr...</td>\n",
       "    </tr>\n",
       "    <tr>\n",
       "      <th>1</th>\n",
       "      <td>374</td>\n",
       "      <td>180299</td>\n",
       "      <td>/cas/DeepLearn/elperu/tmp/speech_datasets/Libr...</td>\n",
       "    </tr>\n",
       "    <tr>\n",
       "      <th>2</th>\n",
       "      <td>374</td>\n",
       "      <td>180299</td>\n",
       "      <td>/cas/DeepLearn/elperu/tmp/speech_datasets/Libr...</td>\n",
       "    </tr>\n",
       "    <tr>\n",
       "      <th>3</th>\n",
       "      <td>374</td>\n",
       "      <td>180299</td>\n",
       "      <td>/cas/DeepLearn/elperu/tmp/speech_datasets/Libr...</td>\n",
       "    </tr>\n",
       "    <tr>\n",
       "      <th>4</th>\n",
       "      <td>374</td>\n",
       "      <td>180299</td>\n",
       "      <td>/cas/DeepLearn/elperu/tmp/speech_datasets/Libr...</td>\n",
       "    </tr>\n",
       "    <tr>\n",
       "      <th>...</th>\n",
       "      <td>...</td>\n",
       "      <td>...</td>\n",
       "      <td>...</td>\n",
       "    </tr>\n",
       "    <tr>\n",
       "      <th>9995</th>\n",
       "      <td>4640</td>\n",
       "      <td>19187</td>\n",
       "      <td>/cas/DeepLearn/elperu/tmp/speech_datasets/Libr...</td>\n",
       "    </tr>\n",
       "    <tr>\n",
       "      <th>9996</th>\n",
       "      <td>4640</td>\n",
       "      <td>19187</td>\n",
       "      <td>/cas/DeepLearn/elperu/tmp/speech_datasets/Libr...</td>\n",
       "    </tr>\n",
       "    <tr>\n",
       "      <th>9997</th>\n",
       "      <td>4640</td>\n",
       "      <td>19187</td>\n",
       "      <td>/cas/DeepLearn/elperu/tmp/speech_datasets/Libr...</td>\n",
       "    </tr>\n",
       "    <tr>\n",
       "      <th>9998</th>\n",
       "      <td>4640</td>\n",
       "      <td>19187</td>\n",
       "      <td>/cas/DeepLearn/elperu/tmp/speech_datasets/Libr...</td>\n",
       "    </tr>\n",
       "    <tr>\n",
       "      <th>9999</th>\n",
       "      <td>4640</td>\n",
       "      <td>19187</td>\n",
       "      <td>/cas/DeepLearn/elperu/tmp/speech_datasets/Libr...</td>\n",
       "    </tr>\n",
       "  </tbody>\n",
       "</table>\n",
       "<p>10000 rows × 3 columns</p>\n",
       "</div>"
      ],
      "text/plain": [
       "     spk_id   ch_id                                         utter_path\n",
       "0       374  180299  /cas/DeepLearn/elperu/tmp/speech_datasets/Libr...\n",
       "1       374  180299  /cas/DeepLearn/elperu/tmp/speech_datasets/Libr...\n",
       "2       374  180299  /cas/DeepLearn/elperu/tmp/speech_datasets/Libr...\n",
       "3       374  180299  /cas/DeepLearn/elperu/tmp/speech_datasets/Libr...\n",
       "4       374  180299  /cas/DeepLearn/elperu/tmp/speech_datasets/Libr...\n",
       "...     ...     ...                                                ...\n",
       "9995   4640   19187  /cas/DeepLearn/elperu/tmp/speech_datasets/Libr...\n",
       "9996   4640   19187  /cas/DeepLearn/elperu/tmp/speech_datasets/Libr...\n",
       "9997   4640   19187  /cas/DeepLearn/elperu/tmp/speech_datasets/Libr...\n",
       "9998   4640   19187  /cas/DeepLearn/elperu/tmp/speech_datasets/Libr...\n",
       "9999   4640   19187  /cas/DeepLearn/elperu/tmp/speech_datasets/Libr...\n",
       "\n",
       "[10000 rows x 3 columns]"
      ]
     },
     "execution_count": 28,
     "metadata": {},
     "output_type": "execute_result"
    }
   ],
   "source": [
    "df"
   ]
  },
  {
   "cell_type": "code",
   "execution_count": null,
   "metadata": {},
   "outputs": [],
   "source": []
  },
  {
   "cell_type": "code",
   "execution_count": 29,
   "metadata": {},
   "outputs": [],
   "source": [
    "out_path = '/cas/DeepLearn/elperu/tmp/speech_datasets/LibriSpeech/'\n",
    "df.to_csv(os.path.join(out_path, 'dataset_info.csv'), index=False)"
   ]
  },
  {
   "cell_type": "code",
   "execution_count": 30,
   "metadata": {},
   "outputs": [],
   "source": [
    "g = pd.read_csv(os.path.join(out_path, 'dataset_info.csv'))"
   ]
  },
  {
   "cell_type": "code",
   "execution_count": 31,
   "metadata": {},
   "outputs": [
    {
     "data": {
      "text/html": [
       "<div>\n",
       "<style scoped>\n",
       "    .dataframe tbody tr th:only-of-type {\n",
       "        vertical-align: middle;\n",
       "    }\n",
       "\n",
       "    .dataframe tbody tr th {\n",
       "        vertical-align: top;\n",
       "    }\n",
       "\n",
       "    .dataframe thead th {\n",
       "        text-align: right;\n",
       "    }\n",
       "</style>\n",
       "<table border=\"1\" class=\"dataframe\">\n",
       "  <thead>\n",
       "    <tr style=\"text-align: right;\">\n",
       "      <th></th>\n",
       "      <th>spk_id</th>\n",
       "      <th>ch_id</th>\n",
       "      <th>utter_path</th>\n",
       "    </tr>\n",
       "  </thead>\n",
       "  <tbody>\n",
       "    <tr>\n",
       "      <th>0</th>\n",
       "      <td>374</td>\n",
       "      <td>180299</td>\n",
       "      <td>/cas/DeepLearn/elperu/tmp/speech_datasets/Libr...</td>\n",
       "    </tr>\n",
       "    <tr>\n",
       "      <th>1</th>\n",
       "      <td>374</td>\n",
       "      <td>180299</td>\n",
       "      <td>/cas/DeepLearn/elperu/tmp/speech_datasets/Libr...</td>\n",
       "    </tr>\n",
       "    <tr>\n",
       "      <th>2</th>\n",
       "      <td>374</td>\n",
       "      <td>180299</td>\n",
       "      <td>/cas/DeepLearn/elperu/tmp/speech_datasets/Libr...</td>\n",
       "    </tr>\n",
       "    <tr>\n",
       "      <th>3</th>\n",
       "      <td>374</td>\n",
       "      <td>180299</td>\n",
       "      <td>/cas/DeepLearn/elperu/tmp/speech_datasets/Libr...</td>\n",
       "    </tr>\n",
       "    <tr>\n",
       "      <th>4</th>\n",
       "      <td>374</td>\n",
       "      <td>180299</td>\n",
       "      <td>/cas/DeepLearn/elperu/tmp/speech_datasets/Libr...</td>\n",
       "    </tr>\n",
       "    <tr>\n",
       "      <th>...</th>\n",
       "      <td>...</td>\n",
       "      <td>...</td>\n",
       "      <td>...</td>\n",
       "    </tr>\n",
       "    <tr>\n",
       "      <th>9995</th>\n",
       "      <td>4640</td>\n",
       "      <td>19187</td>\n",
       "      <td>/cas/DeepLearn/elperu/tmp/speech_datasets/Libr...</td>\n",
       "    </tr>\n",
       "    <tr>\n",
       "      <th>9996</th>\n",
       "      <td>4640</td>\n",
       "      <td>19187</td>\n",
       "      <td>/cas/DeepLearn/elperu/tmp/speech_datasets/Libr...</td>\n",
       "    </tr>\n",
       "    <tr>\n",
       "      <th>9997</th>\n",
       "      <td>4640</td>\n",
       "      <td>19187</td>\n",
       "      <td>/cas/DeepLearn/elperu/tmp/speech_datasets/Libr...</td>\n",
       "    </tr>\n",
       "    <tr>\n",
       "      <th>9998</th>\n",
       "      <td>4640</td>\n",
       "      <td>19187</td>\n",
       "      <td>/cas/DeepLearn/elperu/tmp/speech_datasets/Libr...</td>\n",
       "    </tr>\n",
       "    <tr>\n",
       "      <th>9999</th>\n",
       "      <td>4640</td>\n",
       "      <td>19187</td>\n",
       "      <td>/cas/DeepLearn/elperu/tmp/speech_datasets/Libr...</td>\n",
       "    </tr>\n",
       "  </tbody>\n",
       "</table>\n",
       "<p>10000 rows × 3 columns</p>\n",
       "</div>"
      ],
      "text/plain": [
       "      spk_id   ch_id                                         utter_path\n",
       "0        374  180299  /cas/DeepLearn/elperu/tmp/speech_datasets/Libr...\n",
       "1        374  180299  /cas/DeepLearn/elperu/tmp/speech_datasets/Libr...\n",
       "2        374  180299  /cas/DeepLearn/elperu/tmp/speech_datasets/Libr...\n",
       "3        374  180299  /cas/DeepLearn/elperu/tmp/speech_datasets/Libr...\n",
       "4        374  180299  /cas/DeepLearn/elperu/tmp/speech_datasets/Libr...\n",
       "...      ...     ...                                                ...\n",
       "9995    4640   19187  /cas/DeepLearn/elperu/tmp/speech_datasets/Libr...\n",
       "9996    4640   19187  /cas/DeepLearn/elperu/tmp/speech_datasets/Libr...\n",
       "9997    4640   19187  /cas/DeepLearn/elperu/tmp/speech_datasets/Libr...\n",
       "9998    4640   19187  /cas/DeepLearn/elperu/tmp/speech_datasets/Libr...\n",
       "9999    4640   19187  /cas/DeepLearn/elperu/tmp/speech_datasets/Libr...\n",
       "\n",
       "[10000 rows x 3 columns]"
      ]
     },
     "execution_count": 31,
     "metadata": {},
     "output_type": "execute_result"
    }
   ],
   "source": [
    "g"
   ]
  },
  {
   "cell_type": "code",
   "execution_count": null,
   "metadata": {},
   "outputs": [],
   "source": []
  },
  {
   "cell_type": "code",
   "execution_count": 2,
   "metadata": {},
   "outputs": [],
   "source": [
    "import pickle"
   ]
  },
  {
   "cell_type": "code",
   "execution_count": 3,
   "metadata": {},
   "outputs": [],
   "source": [
    "a = pd.read_csv('/cas/DeepLearn/elperu/tmp/speech_datasets/LibriSpeech/train_info.csv')"
   ]
  },
  {
   "cell_type": "code",
   "execution_count": null,
   "metadata": {},
   "outputs": [],
   "source": []
  },
  {
   "cell_type": "code",
   "execution_count": 7,
   "metadata": {},
   "outputs": [],
   "source": [
    "count = 0\n",
    "for i in range(len(a)):\n",
    "    tmp = a.iloc[0]['feature_path']\n",
    "    with open(tmp, 'rb') as f:\n",
    "        h = pickle.load(f)\n",
    "        \n",
    "    feature = h['feat']\n",
    "    start_sec, end_sec = 0.5, 0.5\n",
    "    start_frame = int(start_sec / 0.01)\n",
    "    end_frame = len(feature) - int(end_sec / 0.01)\n",
    "    ori_feat = feature\n",
    "    feature = feature[start_frame:end_frame,:]\n",
    "    \n",
    "    assert(len(feature) > 40)       "
   ]
  },
  {
   "cell_type": "code",
   "execution_count": 8,
   "metadata": {},
   "outputs": [],
   "source": [
    "t = '/cas/DeepLearn/elperu/tmp/speech_datasets/LibriSpeech/train_features/1183/1183-124566-0005.p'"
   ]
  },
  {
   "cell_type": "code",
   "execution_count": 9,
   "metadata": {},
   "outputs": [],
   "source": [
    "with open(t, 'rb') as f:\n",
    "    h = pickle.load(f)"
   ]
  },
  {
   "cell_type": "code",
   "execution_count": 13,
   "metadata": {},
   "outputs": [
    {
     "data": {
      "text/plain": [
       "90"
      ]
     },
     "execution_count": 13,
     "metadata": {},
     "output_type": "execute_result"
    }
   ],
   "source": [
    "len(h['feat'][start_frame:end_frame,:])"
   ]
  },
  {
   "cell_type": "code",
   "execution_count": null,
   "metadata": {},
   "outputs": [],
   "source": []
  },
  {
   "cell_type": "code",
   "execution_count": 5,
   "metadata": {},
   "outputs": [
    {
     "data": {
      "text/plain": [
       "0"
      ]
     },
     "execution_count": 5,
     "metadata": {},
     "output_type": "execute_result"
    }
   ],
   "source": [
    "count"
   ]
  },
  {
   "cell_type": "code",
   "execution_count": 12,
   "metadata": {},
   "outputs": [],
   "source": [
    "feature = h['feat']"
   ]
  },
  {
   "cell_type": "code",
   "execution_count": 13,
   "metadata": {},
   "outputs": [],
   "source": [
    "start_sec, end_sec = 0.5, 0.5\n",
    "start_frame = int(start_sec / 0.01)\n",
    "end_frame = len(feature) - int(end_sec / 0.01)\n",
    "ori_feat = feature\n",
    "feature = feature[start_frame:end_frame,:]"
   ]
  },
  {
   "cell_type": "code",
   "execution_count": 15,
   "metadata": {},
   "outputs": [
    {
     "data": {
      "text/plain": [
       "1195"
      ]
     },
     "execution_count": 15,
     "metadata": {},
     "output_type": "execute_result"
    }
   ],
   "source": [
    "len(feature)"
   ]
  }
 ],
 "metadata": {
  "kernelspec": {
   "display_name": "Python [conda env:speaker]",
   "language": "python",
   "name": "conda-env-speaker-py"
  },
  "language_info": {
   "codemirror_mode": {
    "name": "ipython",
    "version": 3
   },
   "file_extension": ".py",
   "mimetype": "text/x-python",
   "name": "python",
   "nbconvert_exporter": "python",
   "pygments_lexer": "ipython3",
   "version": "3.8.3"
  }
 },
 "nbformat": 4,
 "nbformat_minor": 4
}
