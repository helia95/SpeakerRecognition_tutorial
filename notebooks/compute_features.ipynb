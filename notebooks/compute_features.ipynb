{
 "cells": [
  {
   "cell_type": "code",
   "execution_count": 12,
   "metadata": {},
   "outputs": [],
   "source": [
    "import pickle\n",
    "import os\n",
    "import numpy as np\n",
    "import scipy.io.wavfile as wav\n",
    "import librosa\n",
    "from python_speech_features import fbank\n",
    "import shutil"
   ]
  },
  {
   "cell_type": "code",
   "execution_count": 13,
   "metadata": {},
   "outputs": [],
   "source": [
    "def normalize_frames(m,Scale=True):\n",
    "    if Scale:\n",
    "        return (m - np.mean(m, axis=0)) / (np.std(m, axis=0) + 2e-12)\n",
    "    else:\n",
    "        return (m - np.mean(m, axis=0))"
   ]
  },
  {
   "cell_type": "code",
   "execution_count": 14,
   "metadata": {},
   "outputs": [],
   "source": [
    "user = '207F2088'\n",
    "filename = '../SpeakerRecognition_tutorial/test_wavs/207F2088/enroll.wav'\n"
   ]
  },
  {
   "cell_type": "markdown",
   "metadata": {},
   "source": [
    "### Final res"
   ]
  },
  {
   "cell_type": "code",
   "execution_count": 15,
   "metadata": {},
   "outputs": [],
   "source": [
    "base_path = 'vox_celeb_test_set/merged/'"
   ]
  },
  {
   "cell_type": "code",
   "execution_count": 16,
   "metadata": {},
   "outputs": [
    {
     "name": "stdout",
     "output_type": "stream",
     "text": [
      "Current users: ['id10270', 'id10271', 'id10272', 'id10273', 'id10274', 'id10275', 'id10276', 'id10277', 'id10278', 'id10279', 'id10280', 'id10281', 'id10282', 'id10283', 'id10284', 'id10285', 'id10286', 'id10287', 'id10288', 'id10289', 'id10290', 'id10291', 'id10292', 'id10293', 'id10294', 'id10295', 'id10296', 'id10297', 'id10298', 'id10299', 'id10300', 'id10301', 'id10302', 'id10303', 'id10304', 'id10305', 'id10306', 'id10307', 'id10308', 'id10309']\n"
     ]
    }
   ],
   "source": [
    "users = os.listdir(base_path)\n",
    "print(f'Current users: {users}')"
   ]
  },
  {
   "cell_type": "code",
   "execution_count": 17,
   "metadata": {},
   "outputs": [
    {
     "data": {
      "text/plain": [
       "40"
      ]
     },
     "execution_count": 17,
     "metadata": {},
     "output_type": "execute_result"
    }
   ],
   "source": [
    "len(users)"
   ]
  },
  {
   "cell_type": "code",
   "execution_count": 18,
   "metadata": {},
   "outputs": [],
   "source": [
    "# Create dir tree"
   ]
  },
  {
   "cell_type": "code",
   "execution_count": 19,
   "metadata": {},
   "outputs": [],
   "source": [
    "out_path = './vox_celeb_features'"
   ]
  },
  {
   "cell_type": "code",
   "execution_count": 20,
   "metadata": {},
   "outputs": [],
   "source": [
    "shutil.rmtree(out_path, ignore_errors=True)\n",
    "\n",
    "for user in users:\n",
    "    os.makedirs(os.path.join(out_path, user))"
   ]
  },
  {
   "cell_type": "code",
   "execution_count": null,
   "metadata": {},
   "outputs": [],
   "source": []
  },
  {
   "cell_type": "code",
   "execution_count": 21,
   "metadata": {},
   "outputs": [],
   "source": [
    "steps = ['enroll', 'test']"
   ]
  },
  {
   "cell_type": "code",
   "execution_count": 22,
   "metadata": {},
   "outputs": [],
   "source": [
    "for step in steps:\n",
    "    for user in users:\n",
    "        _file = os.path.join(base_path, user, f'{step}.wav')\n",
    "        \n",
    "        sample_rate = 16000\n",
    "\n",
    "        audio, sr = librosa.load(_file, sr=sample_rate, mono=True)\n",
    "\n",
    "        filter_banks, energies = fbank(audio, samplerate=sample_rate, nfilt=40, winlen=0.025)\n",
    "\n",
    "        filter_banks = 20 * np.log10(np.maximum(filter_banks,1e-5))\n",
    "\n",
    "        feature = normalize_frames(filter_banks, Scale=False)\n",
    "        \n",
    "        out = {'label':user,\n",
    "               'feat':feature}\n",
    "        \n",
    "        \n",
    "        pickle_file = os.path.join(out_path, user, f'{step}.p')\n",
    "        \n",
    "        with open(pickle_file, 'wb') as f:\n",
    "            pickle.dump(out, f)"
   ]
  },
  {
   "cell_type": "code",
   "execution_count": null,
   "metadata": {},
   "outputs": [],
   "source": []
  }
 ],
 "metadata": {
  "kernelspec": {
   "display_name": "Python 3",
   "language": "python",
   "name": "python3"
  },
  "language_info": {
   "codemirror_mode": {
    "name": "ipython",
    "version": 3
   },
   "file_extension": ".py",
   "mimetype": "text/x-python",
   "name": "python",
   "nbconvert_exporter": "python",
   "pygments_lexer": "ipython3",
   "version": "3.6.10"
  }
 },
 "nbformat": 4,
 "nbformat_minor": 4
}
